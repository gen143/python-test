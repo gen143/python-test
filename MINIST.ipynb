{
  "nbformat": 4,
  "nbformat_minor": 0,
  "metadata": {
    "colab": {
      "provenance": [],
      "authorship_tag": "ABX9TyNrq7B9vS6pCA67EMRiDrOQ",
      "include_colab_link": true
    },
    "kernelspec": {
      "name": "python3",
      "display_name": "Python 3"
    },
    "language_info": {
      "name": "python"
    },
    "accelerator": "TPU"
  },
  "cells": [
    {
      "cell_type": "markdown",
      "metadata": {
        "id": "view-in-github",
        "colab_type": "text"
      },
      "source": [
        "<a href=\"https://colab.research.google.com/github/gen143/python-test/blob/master/MINIST.ipynb\" target=\"_parent\"><img src=\"https://colab.research.google.com/assets/colab-badge.svg\" alt=\"Open In Colab\"/></a>"
      ]
    },
    {
      "cell_type": "code",
      "execution_count": 1,
      "metadata": {
        "id": "Enj9Ivu72EDD"
      },
      "outputs": [],
      "source": [
        "import os\n",
        "import tensorflow as tf\n",
        "from tensorflow import keras\n",
        "from tensorflow.keras import layers\n",
        "from tensorflow.keras.datasets import mnist"
      ]
    },
    {
      "cell_type": "code",
      "source": [
        "(x_train, y_train), (x_test, y_test) = mnist.load_data()"
      ],
      "metadata": {
        "colab": {
          "base_uri": "https://localhost:8080/"
        },
        "id": "CmU3YD7b27Xf",
        "outputId": "f26f07c6-fa15-4e57-fd11-540245dd8348"
      },
      "execution_count": 2,
      "outputs": [
        {
          "output_type": "stream",
          "name": "stdout",
          "text": [
            "Downloading data from https://storage.googleapis.com/tensorflow/tf-keras-datasets/mnist.npz\n",
            "11490434/11490434 [==============================] - 0s 0us/step\n"
          ]
        }
      ]
    },
    {
      "cell_type": "code",
      "source": [
        "x_train.shape"
      ],
      "metadata": {
        "colab": {
          "base_uri": "https://localhost:8080/"
        },
        "id": "E5SyQyli3IQ6",
        "outputId": "75e4b260-1aa1-495f-decb-17a6b7b5d7e8"
      },
      "execution_count": 5,
      "outputs": [
        {
          "output_type": "execute_result",
          "data": {
            "text/plain": [
              "(60000, 28, 28)"
            ]
          },
          "metadata": {},
          "execution_count": 5
        }
      ]
    },
    {
      "cell_type": "code",
      "source": [
        "x_train = x_train.reshape(-1, 28*28).astype('float32') / 255\n",
        "x_test = x_test.reshape(-1, 28*28).astype('float32') / 255"
      ],
      "metadata": {
        "id": "BSuO6NC-3usJ"
      },
      "execution_count": 6,
      "outputs": []
    },
    {
      "cell_type": "code",
      "source": [
        "model = keras.Sequential([\n",
        "    layers.Dense(512, activation = 'relu'),\n",
        "    layers.Dense(256, activation = 'relu'),\n",
        "    layers.Dense(10)\n",
        "])\n",
        "\n",
        "model.compile(\n",
        "    loss = keras.losses.SparseCategoricalCrossentropy(from_logits=False),\n",
        "    optimizer = keras.optimizers.Adam(lr=0.001),\n",
        "    metrics=['accuracy']\n",
        ")"
      ],
      "metadata": {
        "colab": {
          "base_uri": "https://localhost:8080/"
        },
        "id": "qTFrcOB75bwl",
        "outputId": "e50388f0-261a-4e24-9c86-c989204516c5"
      },
      "execution_count": 14,
      "outputs": [
        {
          "output_type": "stream",
          "name": "stderr",
          "text": [
            "WARNING:absl:`lr` is deprecated in Keras optimizer, please use `learning_rate` or use the legacy optimizer, e.g.,tf.keras.optimizers.legacy.Adam.\n"
          ]
        }
      ]
    },
    {
      "cell_type": "code",
      "source": [
        "model.fit(x_train, y_train, batch_size=32, epochs=5, verbose=2)\n",
        "model.evaluate(x_test, y_test, batch_size=32, verbose=2)"
      ],
      "metadata": {
        "colab": {
          "base_uri": "https://localhost:8080/"
        },
        "id": "K2NGWU5K67pD",
        "outputId": "203886ae-2ee9-48f9-ce51-f5d0d220ad6b"
      },
      "execution_count": 15,
      "outputs": [
        {
          "output_type": "stream",
          "name": "stdout",
          "text": [
            "Epoch 1/5\n",
            "1875/1875 - 18s - loss: 2.3217 - accuracy: 0.1180 - 18s/epoch - 9ms/step\n",
            "Epoch 2/5\n",
            "1875/1875 - 19s - loss: 2.3026 - accuracy: 0.1177 - 19s/epoch - 10ms/step\n",
            "Epoch 3/5\n",
            "1875/1875 - 18s - loss: 2.3026 - accuracy: 0.1177 - 18s/epoch - 10ms/step\n",
            "Epoch 4/5\n",
            "1875/1875 - 19s - loss: 2.3026 - accuracy: 0.1177 - 19s/epoch - 10ms/step\n",
            "Epoch 5/5\n",
            "1875/1875 - 18s - loss: 2.3026 - accuracy: 0.1177 - 18s/epoch - 9ms/step\n",
            "313/313 - 1s - loss: 2.3026 - accuracy: 0.1104 - 1s/epoch - 3ms/step\n"
          ]
        },
        {
          "output_type": "execute_result",
          "data": {
            "text/plain": [
              "[2.30259108543396, 0.1103999987244606]"
            ]
          },
          "metadata": {},
          "execution_count": 15
        }
      ]
    }
  ]
}